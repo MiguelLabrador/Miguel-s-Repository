{
  "cells": [
    {
      "cell_type": "markdown",
      "source": [
        "# **SIMULADOR CORREO ELECTRÓNICO - MIGUEL LABRADOR**\n",
        "\n",
        "\n",
        "\n",
        "Aquí presento mi trabajo práctico para la construcción de un código que simule una plataforma de correo electrónico. Para poder emular la plataforma de correo electrónico es necesario subir los archivos *database.txt* y *users_pwd.xlsx*.\n",
        "\n",
        "Pymail es una plataforma interna para enviar correos electrónicos de una empresa logística. La plataforma permite realizar las siguientes funciones y, además, solo puede enviar correos a usuarios (la longitud de los usuarios es siempre inferior a veinte caracteres) que utilicen el dominio *@pymail.com*:\n",
        "\n",
        "- Enviar correos\n",
        "-Listar la bandeja de entrada\n",
        "-Eliminar correos\n",
        "-Visualizar correos\n",
        "-Buscar correos\n",
        "-Marcar correos como leídos\n",
        "-Responder correos\n",
        "-Reenviar correos\n",
        "-Listar la bandeja de salida\n",
        "-Salir\n",
        "\n",
        "A continuación, se muestra un pantallazo de los usuarios disponibles en el fichero excel.\n",
        "\n",
        "![image.png](data:image/png;base64,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)\n",
        "\n",
        "\n",
        "\n",
        "\n"
      ],
      "metadata": {
        "id": "R89jgnRBXxt7"
      }
    },
    {
      "cell_type": "markdown",
      "source": [
        "# **Función Log-in**\n",
        "Carga la base de datos de usuarios y contraseñas de la empresa"
      ],
      "metadata": {
        "id": "3B6QIEpITYw2"
      }
    },
    {
      "cell_type": "code",
      "source": [
        "pip install openpyxl"
      ],
      "metadata": {
        "colab": {
          "base_uri": "https://localhost:8080/"
        },
        "id": "keifCjG-TmOz",
        "outputId": "6954a35c-a547-4245-cfff-d0fadf2e947f"
      },
      "execution_count": 5,
      "outputs": [
        {
          "output_type": "stream",
          "name": "stdout",
          "text": [
            "Requirement already satisfied: openpyxl in /usr/local/lib/python3.10/dist-packages (3.1.3)\n",
            "Requirement already satisfied: et-xmlfile in /usr/local/lib/python3.10/dist-packages (from openpyxl) (1.1.0)\n"
          ]
        }
      ]
    },
    {
      "cell_type": "code",
      "source": [
        "from openpyxl import load_workbook # La librería openpyxl nos permite analizar datos en las celdas de un archivo excel"
      ],
      "metadata": {
        "id": "8UTzdMfZTt_-"
      },
      "execution_count": 6,
      "outputs": []
    },
    {
      "cell_type": "code",
      "source": [
        "# Cargar el documento con los usuarios y contraseñas\n",
        "users_path = 'users_pwd.xlsx'\n",
        "wb = load_workbook(users_path)\n",
        "sheet = wb.active\n",
        "\n",
        "# La función login verifica si el usuario y la contraseña están en la base de datos de usuarios y ambas en la misma fila\n",
        "def login(username, password):\n",
        "    for row in sheet.iter_rows(min_row=2, values_only=True): # Min_row=2 ya que la fila 1 contiene el encabezado\n",
        "        if row[0] == username and row[1] == password:\n",
        "            return True\n",
        "    return False"
      ],
      "metadata": {
        "id": "oWGUP_vcTwJb"
      },
      "execution_count": 7,
      "outputs": []
    },
    {
      "cell_type": "markdown",
      "source": [
        "# **Función user verifier**\n",
        "Verifica si un email cumple las reglas impuestas de la plataforma.\n",
        "  - Longitud user < 20 char\n",
        "  - Único dominio: *@pymail.com*"
      ],
      "metadata": {
        "id": "OKiMQrZ6VnC3"
      }
    },
    {
      "cell_type": "code",
      "source": [
        "# La función user_verifier comprueba si un correo cumple los requisitos o no.\n",
        "def user_verifier(user_name):\n",
        "    if '@' in user_name:\n",
        "      split_user_name = user_name.split('@')\n",
        "      if len(split_user_name[0]) <= 20 and split_user_name[1] == 'pymail.com' and user_name[-11] == '@': # Cuando el usuario creó su mail se le limitó a 20 carácteres su nombre de usuario. Solo hay un único dominio: pymail.com\n",
        "\n",
        "        return True"
      ],
      "metadata": {
        "id": "gIrftVJvVvj5"
      },
      "execution_count": 8,
      "outputs": []
    },
    {
      "cell_type": "markdown",
      "source": [
        "# **Función enviar correo**\n",
        "Crea un dict verificando los mails y posteriormente hace el unpack posteándolo en la database de mails"
      ],
      "metadata": {
        "id": "LMfU-NsDIV20"
      }
    },
    {
      "cell_type": "code",
      "source": [
        "# La función send_mail ennvía un correo eléctronico al destinatario deseado registrando además el Asunto y el Cuerpo\n",
        "def send_mail(email_adress, database):\n",
        "\n",
        "    sender = email_adress\n",
        "    email2send = [] # Lista vacía a la que incorporamos el correo a enviar\n",
        "\n",
        "    while True:\n",
        "      receiver = input('Escriba la dirección email del destinatario: ')\n",
        "      if user_verifier(receiver): # Comprobamos si el mail del destinatarios cumple los requisitos\n",
        "        subject = input('Escriba el asunto del email: ')\n",
        "        body = input('Escriba el cuerpo del email: ')\n",
        "        email = {\n",
        "            'Emisor': sender,\n",
        "            'Destinatario': receiver,\n",
        "            'Asunto': subject,\n",
        "            'Cuerpo': body,\n",
        "            'Estado': 'No leído'\n",
        "        }\n",
        "        email2send.append(email)\n",
        "        print('\\nCorreo enviado exitosamente')\n",
        "        break\n",
        "      else:\n",
        "        print('La dirección email introducida no existe')\n",
        "\n",
        "    return email2send"
      ],
      "metadata": {
        "id": "douVKflDIY6L"
      },
      "execution_count": 9,
      "outputs": []
    },
    {
      "cell_type": "markdown",
      "source": [
        "# **Función bandeja de entrada**\n",
        "Crea una list de dicts verificando que el destinatario del mail sea el user que se logueó."
      ],
      "metadata": {
        "id": "utjJsEMJGChr"
      }
    },
    {
      "cell_type": "code",
      "source": [
        "# La función inbox muestra la bandeja de entrada del usuario (Emisor y Asunto)\n",
        "def inbox(email_adress, database):\n",
        "\n",
        "    bandeja_de_entrada = [] # Lista vacía a la que incorporamos los correos de la bandeja de salida\n",
        "\n",
        "    with open(database, 'r') as file:\n",
        "      lines = file.readlines() # lines es una list de str en la que cada elemento es una línea de la database\n",
        "\n",
        "      for i in range(1, len(lines), 6):\n",
        "        if lines[i].split()[1] == email_adress: # Comprueba que el destinatario del email es el usuario loggueado\n",
        "          correo = {\n",
        "              'Emisor': lines[i-1].split()[1],\n",
        "              'Asunto': lines[i+1].replace('Asunto: ', '').strip(),\n",
        "              'Estado': lines[i+3].replace('Estado: ', '').strip()\n",
        "          }\n",
        "          bandeja_de_entrada.append(correo)\n",
        "\n",
        "      return bandeja_de_entrada\n"
      ],
      "metadata": {
        "id": "wrozhLMvGHxo"
      },
      "execution_count": 10,
      "outputs": []
    },
    {
      "cell_type": "markdown",
      "source": [
        "# **Función eliminar mail de la bandeja de entrada**\n",
        "Compara dos list (bandeja de entrada y base de datos) y elimina el mail en la base de datos que el usuario indica de la bandeja de entrada"
      ],
      "metadata": {
        "id": "RB2dvZkXFWs8"
      }
    },
    {
      "cell_type": "code",
      "source": [
        "# La función pop_inbox elimina un email de la bandeja de entrada\n",
        "def pop_inbox(email_adress, database):\n",
        "\n",
        "    base_de_datos = [] # Lista vacía a la que incorporamos todos los correos de la database\n",
        "    bandeja_de_entrada = bandeja_de_entrada_completa(email_adress, database) # Lista de correos con todos los campos del usuario loggueado\n",
        "\n",
        "    with open(database, 'r') as file:\n",
        "      lines = file.readlines() # lines es una list de str en la que cada elemento es una linea de la database\n",
        "\n",
        "    for i in range(1, len(lines), 6):\n",
        "      correo_2 = {\n",
        "          'Emisor': lines[i-1].split()[1],\n",
        "          'Destinatario': lines[i].split()[1],\n",
        "          'Asunto': lines[i+1].replace('Asunto: ', '').strip(),\n",
        "          'Cuerpo': lines[i+2].replace('Cuerpo: ', '').strip(),\n",
        "          'Estado': lines[i+3].replace('Estado: ', '').strip()\n",
        "      }\n",
        "      base_de_datos.append(correo_2)\n",
        "\n",
        "    while True:\n",
        "      print('Seleccione un número para eliminar un correo de su bandeja de entrada siendo 0 el primero de la lista')\n",
        "      print('Si todavía no ha visto su bandeja de entrada por favor escriba menú para ver su bandeja')\n",
        "      pop_index = input()\n",
        "\n",
        "      if pop_index.isdigit(): # Devuelve True si el input es un número\n",
        "        pop_index = int(pop_index)\n",
        "        if 0 <= pop_index < len(bandeja_de_entrada): # Valoramos si el input está asociado a algún mail\n",
        "          mail_to_pop = bandeja_de_entrada.pop(pop_index)\n",
        "          base_de_datos = [mail for mail in base_de_datos if mail != mail_to_pop] # Crea una lista con todos los mails salvo el mail a eliminar de los usuarios que posteriormente se reescribirá en la database\n",
        "          print('\\n**********')\n",
        "          print('Correo eliminado exitosamente')\n",
        "          print('**********\\n')\n",
        "          break\n",
        "        else:\n",
        "          print('\\n**********')\n",
        "          print('El número no corresponde a ningún correo de la lista. Si quiere volver al menú escriba: menú')\n",
        "          print('**********\\n')\n",
        "      elif pop_index.lower() in ['menú', 'menu']: # Sirve como botón de \"atrás\"\n",
        "        break\n",
        "      else:\n",
        "        print('\\n**********')\n",
        "        print('Por favor ingrese un número para eliminar un correo de su bandeja de entrada o escriba menú para volver atrás')\n",
        "        print('**********\\n')\n",
        "\n",
        "    return base_de_datos"
      ],
      "metadata": {
        "id": "BNjBqSyyFeRv"
      },
      "execution_count": 11,
      "outputs": []
    },
    {
      "cell_type": "code",
      "source": [
        "# La función bandeja_de_entrada_completa genera una bandeja de entrada con todos los campos del correo electrónico\n",
        "def bandeja_de_entrada_completa(email_adress, database):\n",
        "\n",
        "    bandeja_de_entrada = []\n",
        "\n",
        "    with open(database, 'r') as file:\n",
        "      lines = file.readlines() # lines es una list de str en la que cada elemento es una linea de la database\n",
        "\n",
        "    for i in range(1, len(lines), 6):\n",
        "      if lines[i].split()[1] == email_adress:\n",
        "        correo = {\n",
        "            'Emisor': lines[i-1].split()[1],\n",
        "            'Destinatario': lines[i].split()[1],\n",
        "            'Asunto': lines[i+1].replace('Asunto: ', '').strip(),\n",
        "            'Cuerpo': lines[i+2].replace('Cuerpo: ', '').strip(),\n",
        "            'Estado': lines[i+3].replace('Estado: ', '').strip()\n",
        "        }\n",
        "        bandeja_de_entrada.append(correo)\n",
        "\n",
        "    return bandeja_de_entrada"
      ],
      "metadata": {
        "id": "bS6t6OQhieyN"
      },
      "execution_count": 12,
      "outputs": []
    },
    {
      "cell_type": "markdown",
      "source": [
        "#**Función ver correo al completo**\n",
        "Muestra un correo llamando a la función bandeja de entrada en base al índice que el usuario indica"
      ],
      "metadata": {
        "id": "72RCEAqF56QB"
      }
    },
    {
      "cell_type": "code",
      "source": [
        "# La función view_mail muestra todos los campos de un mail seleccionado de la bandeja de entrada\n",
        "def view_mail(email_adress, database):\n",
        "\n",
        "    print('Seleccione un número para ver un correo de su bandeja de entrada siendo 0 el primero de la lista')\n",
        "    print('Si todavía no ha visto su bandeja de entrada por favor escriba menú para ver su bandeja')\n",
        "\n",
        "    while True:\n",
        "      view_index = input()\n",
        "      print('\\n')\n",
        "      bandeja_de_entrada = bandeja_de_entrada_completa(email_adress, database)\n",
        "      if view_index.isdigit(): # Devuelve True si el input es un número\n",
        "        view_index = int(view_index)\n",
        "        if 0 <= view_index < len(bandeja_de_entrada): # Valoramos si el input está asociado a algún mail\n",
        "          mail2see = bandeja_de_entrada[view_index]\n",
        "\n",
        "          return mail2see\n",
        "\n",
        "        else:\n",
        "          print('\\n**********')\n",
        "          print('El número no corresponde a ningún correo de la lista. Si quiere volver al menú escriba: menú')\n",
        "          print('**********\\n')\n",
        "      elif view_index.lower() in ['menú', 'menu']: # Sirve como botón de \"atrás\"\n",
        "        break\n",
        "      else:\n",
        "        print('\\n**********')\n",
        "        print('Por favor ingrese un número para ver un correo de su bandeja de entrada o escriba menú para volver atrás')\n",
        "        print('**********\\n')\n"
      ],
      "metadata": {
        "id": "6iPfE-wj6RTL"
      },
      "execution_count": 13,
      "outputs": []
    },
    {
      "cell_type": "markdown",
      "source": [
        "# **Función búsqueda por palabra**\n",
        "Muestra los correos filtrando la bandeja de entrada según la palabra introducida llamando a la función bandeja de entrada completa"
      ],
      "metadata": {
        "id": "65hLcHLGQAM8"
      }
    },
    {
      "cell_type": "code",
      "source": [
        "def search_by_key_word(email_adress, database):\n",
        "\n",
        "    while True:\n",
        "      key_word = input()\n",
        "      print('\\n')\n",
        "\n",
        "      bandeja_de_entrada_filtrada = [] # Lista vacía a la que incorporamos los correos que contengan la palabra introducida\n",
        "\n",
        "      if key_word.isalpha(): # Devuelve True si el input es una palabra\n",
        "        for mail in bandeja_de_entrada_completa(email_adress, database):\n",
        "          for k, v in mail.items():\n",
        "            if key_word.lower() in v.lower(): # Evaluamos todo en minúsculas para mitigar errores\n",
        "              bandeja_de_entrada_filtrada.append(mail)\n",
        "              break\n",
        "        if not bandeja_de_entrada_filtrada: # Devuelve True si la lista esta vacía\n",
        "          print('**********')\n",
        "          print('No se ha encontrado ningún correo con la palabra introducida.')\n",
        "          print('**********\\n')\n",
        "        break\n",
        "      else:\n",
        "        print('**********')\n",
        "        print('Por favor introduzca una palabra.')\n",
        "        print('**********\\n')\n",
        "\n",
        "    return bandeja_de_entrada_filtrada"
      ],
      "metadata": {
        "id": "JBmCS1unQFcF"
      },
      "execution_count": 14,
      "outputs": []
    },
    {
      "cell_type": "markdown",
      "source": [
        "# **Función marcar como Leído**\n",
        "Compara dos list (bandeja de entrada y base de datos) y marcar el mail como leído en la base de datos que el usuario indica de la bandeja de entrada"
      ],
      "metadata": {
        "id": "mse67kVfaFzs"
      }
    },
    {
      "cell_type": "code",
      "source": [
        "def mark_as_read(email_adress, database):\n",
        "\n",
        "    base_de_datos = [] # Lista vacía a la que incorporamos todos los correos de la database\n",
        "\n",
        "    with open(database, 'r') as file:\n",
        "      lines = file.readlines()\n",
        "\n",
        "    for i in range(1, len(lines), 6):\n",
        "      correo_2 = {\n",
        "          'Emisor': lines[i-1].split()[1],\n",
        "          'Destinatario': lines[i].split()[1],\n",
        "          'Asunto': lines[i+1].replace('Asunto: ', '').strip(),\n",
        "          'Cuerpo': lines[i+2].replace('Cuerpo: ', '').strip(),\n",
        "          'Estado': lines[i+3].replace('Estado: ', '').strip()\n",
        "      }\n",
        "      base_de_datos.append(correo_2)\n",
        "\n",
        "    while True:\n",
        "      print('Seleccione un número para eliminar un correo de su bandeja de entrada siendo 0 el primero de la lista')\n",
        "      print('Si todavía no ha visto su bandeja de entrada por favor escriba menú para ver su bandeja')\n",
        "      bandeja = bandeja_de_entrada_completa(email_adress, database)\n",
        "      read = input()\n",
        "\n",
        "      if read.isdigit(): # Devuelve True si el input es un número\n",
        "        read = int(read)\n",
        "        if 0 <= read < len(bandeja): # Valoramos si el input está asociado a algún mail\n",
        "          mail_read = bandeja[read]\n",
        "          for mail in base_de_datos:\n",
        "            if mail_read == mail: #\n",
        "              mail['Estado'] = 'Leído' # Marcamos el mail como leído si el mail de la bandeja de entrada seleccionado es igual al de la base de datos\n",
        "              print('\\n**********')\n",
        "              print('Correo marcado como leído exitosamente')\n",
        "              print('**********\\n')\n",
        "          break\n",
        "        else:\n",
        "          print('\\n**********')\n",
        "          print('El número no corresponde a ningún correo de la lista. Si quiere volver al menú escriba: menú')\n",
        "          print('**********\\n')\n",
        "      elif read.lower() in ['menú', 'menu']: # Sirve como botón de \"atrás\"\n",
        "        break\n",
        "      else:\n",
        "        print('\\n**********')\n",
        "        print('Por favor ingrese un número para marcar un correo de su bandeja de entrada como leído o escriba menú para volver atrás')\n",
        "        print('**********\\n')\n",
        "\n",
        "    return base_de_datos"
      ],
      "metadata": {
        "id": "eoOry2ayaPUc"
      },
      "execution_count": 15,
      "outputs": []
    },
    {
      "cell_type": "markdown",
      "source": [
        "# **Función responder correo**\n",
        "Genera un correo de vuelta según el índice de la bandeja de entrada indicado"
      ],
      "metadata": {
        "id": "m6dv3KR-B3Dq"
      }
    },
    {
      "cell_type": "code",
      "source": [
        "def reply_mail(email_adress, database):\n",
        "\n",
        "    email2reply = [] # Lista vacía a la que incorporamos el mail que vamos a responder\n",
        "\n",
        "    while True:\n",
        "      print('Seleccione un número para responder un correo de su bandeja de entrada siendo 0 el primero de la lista')\n",
        "      print('Si todavía no ha visto su bandeja de entrada por favor escriba menú para ver su bandeja')\n",
        "      bandeja = inbox(email_adress, database)\n",
        "\n",
        "      index_mail = input()\n",
        "      if index_mail.isdigit(): # Devuelve True si el input es un número\n",
        "        index_mail = int(index_mail)\n",
        "        if 0 <= index_mail < len(bandeja): # Valoramos si el input está asociado a algún mail\n",
        "          mail2answer = bandeja[index_mail]\n",
        "          body = input('Escriba el cuerpo del email: ')\n",
        "          correo = {\n",
        "              'Emisor': email_adress,\n",
        "              'Destinatario': mail2answer['Emisor'],\n",
        "              'Asunto': mail2answer['Asunto'],\n",
        "              'Cuerpo': body,\n",
        "              'Estado': 'No leído'\n",
        "          }\n",
        "          email2reply.append(correo)\n",
        "          print('\\n**********')\n",
        "          print('Correo enviado exitosamente')\n",
        "          print('**********\\n')\n",
        "          break\n",
        "        else:\n",
        "          print('\\n**********')\n",
        "          print('El número no corresponde a ningún correo de la lista. Si quiere volver al menú escriba: menú')\n",
        "          print('**********\\n')\n",
        "      elif index_mail.lower() in ['menú', 'menu']: # Sirve como botón de \"atrás\"\n",
        "        break\n",
        "      else:\n",
        "        print('\\n**********')\n",
        "        print('Por favor ingrese un número para marcar un correo de su bandeja de entrada como leído o escriba menú para volver atrás')\n",
        "        print('**********\\n')\n",
        "\n",
        "    return email2reply"
      ],
      "metadata": {
        "id": "bnvhYIoeCKC6"
      },
      "execution_count": 16,
      "outputs": []
    },
    {
      "cell_type": "markdown",
      "source": [
        "# **Función reenviar correo**\n",
        "Reenvía un correo al usuario introducido según el índice de la bandeja de entrada indicado"
      ],
      "metadata": {
        "id": "OMjpfidRZ6nb"
      }
    },
    {
      "cell_type": "code",
      "source": [
        "def forward_mail(email_adress, database):\n",
        "\n",
        "    email2forward = [] # Lista vacía a la que incorporamos el mail que vamos a reenviar\n",
        "\n",
        "    while True:\n",
        "      print('Seleccione un número para reenviar un correo de su bandeja de entrada siendo 0 el primero de la lista')\n",
        "      print('Si todavía no ha visto su bandeja de entrada por favor escriba menú para ver su bandeja')\n",
        "      bandeja = bandeja_de_entrada_completa(email_adress, database)\n",
        "\n",
        "      index_mail = input()\n",
        "      if index_mail.isdigit(): # Devuelve True si el input es un número\n",
        "        index_mail = int(index_mail)\n",
        "        if 0 <= index_mail < len(bandeja): # Valoramos si el input está asociado a algún mail\n",
        "          mail2forward = bandeja[index_mail]\n",
        "          dest = input('Escriba el destinatario al que desea reenviar el email: ')\n",
        "          if user_verifier(dest): # Comprobamos si el mail del destinatarios cumple los requisitos\n",
        "            correo = {\n",
        "                'Emisor': email_adress,\n",
        "                'Destinatario': dest,\n",
        "                'Asunto': mail2forward['Asunto'],\n",
        "                'Cuerpo': mail2forward['Cuerpo'],\n",
        "                'Estado': 'No leído'\n",
        "            }\n",
        "            email2forward.append(correo)\n",
        "            print('\\n**********')\n",
        "            print('Correo enviado exitosamente')\n",
        "            print('**********\\n')\n",
        "            break\n",
        "          else:\n",
        "            print('\\n**********')\n",
        "            print('La dirección email introducida no existe')\n",
        "            print('**********\\n')\n",
        "        else:\n",
        "          print('\\n**********')\n",
        "          print('El número no corresponde a ningún correo de la lista. Si quiere volver al menú escriba: menú')\n",
        "          print('**********\\n')\n",
        "      elif index_mail.lower() in ['menú', 'menu']: # Sirve como botón de \"atrás\"\n",
        "        break\n",
        "      else:\n",
        "        print('\\n**********')\n",
        "        print('Por favor ingrese un número para marcar un correo de su bandeja de entrada como leído o escriba menú para volver atrás')\n",
        "        print('**********\\n')\n",
        "\n",
        "    return email2forward"
      ],
      "metadata": {
        "id": "-WLc5Qy6aNEF"
      },
      "execution_count": 17,
      "outputs": []
    },
    {
      "cell_type": "markdown",
      "source": [
        "# **Función bandeja de salida**\n",
        "Crea una list de dicts verificando que el emisor del mail sea el user que se logueó."
      ],
      "metadata": {
        "id": "TQbdFMO-K98B"
      }
    },
    {
      "cell_type": "code",
      "source": [
        "def outbox(email_adress, database):\n",
        "\n",
        "    bandeja_de_salida = [] # Lista vacía a la que incorporamos los correos de la bandeja de entrada\n",
        "\n",
        "    with open(database, 'r') as file:\n",
        "      lines = file.readlines() # lines es una list de str en la que cada elemento es una linea de la database\n",
        "\n",
        "      for i in range(0, len(lines), 6):\n",
        "        if lines[i].split()[1] == email_adress: # Comprueba que el emisor del email es el usuario loggueado\n",
        "          correo = {\n",
        "              'Destinatario': lines[i+1].split()[1],\n",
        "              'Asunto': lines[i+2].replace('Asunto: ', '').strip()\n",
        "          }\n",
        "          bandeja_de_salida.append(correo)\n",
        "\n",
        "      return bandeja_de_salida"
      ],
      "metadata": {
        "id": "2vR67-fZLLgo"
      },
      "execution_count": 18,
      "outputs": []
    },
    {
      "cell_type": "markdown",
      "source": [
        "# **Función main**\n",
        "Función matriz en la que ejecutamos el correo electrónico llamando a otras funciones.\n",
        "\n",
        "*Antes de ejecutar la función main es necesario ejecutar el resto de funciones: Runtime -> Run all o Ctrl + F9*"
      ],
      "metadata": {
        "id": "c2TavZEpWFWY"
      }
    },
    {
      "cell_type": "code",
      "execution_count": 19,
      "metadata": {
        "id": "fQ3YzSxmsZ8f"
      },
      "outputs": [],
      "source": [
        "def main():\n",
        "\n",
        "    print('¡Bienvenido a Pymail! Para iniciar sesión por favor ingrese sus datos a continuación.')\n",
        "\n",
        "    database = 'database.txt' # Fichero .txt que almacena todos los correos de los diferentes usuarios\n",
        "\n",
        "    while True:\n",
        "      email_adress = input('Introduzca su dirección email: ')\n",
        "      password = input('Introduzca su contraseña: ')\n",
        "      if login(email_adress, password): # Si usuarios y contraseña son correctos rompemos el bucle while simulando el acceso a la plataforma\n",
        "        print('\\nIniciando sesión...')\n",
        "        break\n",
        "      else:\n",
        "        print('\\nLas credenciales no son correctas\\n')\n",
        "\n",
        "    while True:\n",
        "      # Mostrar menú\n",
        "      print(\"\\n== Menú de Correo Electrónico ==\")\n",
        "      print(\"1. Enviar Correo\")\n",
        "      print(\"2. Listar Bandeja de Entrada\")\n",
        "      print(\"3. Eliminar Correo\")\n",
        "      print(\"4. Leer Correo Electrónico\")\n",
        "      print(\"5. Buscar Correos\")\n",
        "      print(\"6. Marcar Correos como Leídos\")\n",
        "      print(\"7. Responder a un Correo\")\n",
        "      print(\"8. Reenviar Correo\")\n",
        "      print(\"9. Listar Bandeja de Salida\")\n",
        "      print(\"10. Salir\")\n",
        "\n",
        "      # Uso de try y except para permanecer en el bucle si se introduce un carácter no deseado\n",
        "      try:\n",
        "        menu_choice = int(input('\\nInserte el número de la acción que quiera realizar: '))\n",
        "\n",
        "        if menu_choice > 10 or menu_choice < 1:\n",
        "          print('\\nPor favor seleccione un número comprendido entre 1 y 10.')\n",
        "\n",
        "        # Enviar un correo\n",
        "        elif menu_choice == 1:\n",
        "          print('\\nHa escogido enviar un correo.\\n')\n",
        "          written = send_mail(email_adress, database)\n",
        "          with open(database, 'a') as file:\n",
        "            for mail in written:\n",
        "              for k, v in mail.items():\n",
        "                file.write(f'{k}: {v}\\n')\n",
        "              file.write(f'\\n')\n",
        "\n",
        "        # Visualizar la bandeja de entrada\n",
        "        elif menu_choice == 2:\n",
        "          print('\\nHa escogido ver su bandeja de entrada.\\n')\n",
        "          inbox_mails = inbox(email_adress, database)\n",
        "          for mail in inbox_mails:\n",
        "            for k, v in mail.items():\n",
        "              print(f'{k}: {v}')\n",
        "            print('\\n')\n",
        "\n",
        "        # Eliminar un correo de tu bandeja de entrada\n",
        "        elif menu_choice == 3:\n",
        "          print('\\nSi desea eliminar un correo de su bandeja de entrada por favor...\\n')\n",
        "          listado_mails = pop_inbox(email_adress, database)\n",
        "          with open(database, 'w' ) as file:\n",
        "            for mail in listado_mails:\n",
        "              for k, v in mail.items():\n",
        "                file.write(f'{k}: {v}\\n')\n",
        "              file.write('\\n')\n",
        "\n",
        "        # Ver un correo de tu bandeja de entrada\n",
        "        elif menu_choice == 4:\n",
        "          print('\\nSi desea ver un correo de su bandeja de entrada por favor...\\n')\n",
        "          mail2view = view_mail(email_adress, database)\n",
        "          if mail2view:\n",
        "            with open(database, 'r') as file:\n",
        "              for k, v in mail2view.items():\n",
        "                print(f'{k}: {v}\\n')\n",
        "              print('\\n')\n",
        "\n",
        "        # Buscar un correo introduciendo palabras clave\n",
        "        elif menu_choice == 5:\n",
        "          print('\\nIntroduzca una palabra clave para buscar un correo de su bandeja de entradam.')\n",
        "          mail2search = search_by_key_word(email_adress, database)\n",
        "          if mail2search:\n",
        "            with open(database, 'r') as file:\n",
        "              for mail in mail2search:\n",
        "                for k, v in mail.items():\n",
        "                  print(f'{k}: {v}\\n')\n",
        "                print('\\n')\n",
        "\n",
        "        # Marcar un correo como Leído de la bandeja de entrada\n",
        "        elif menu_choice == 6:\n",
        "          print('\\nSi desea marcar un correo de su bandeja de entrada como leído por favor...\\n')\n",
        "          mail2mark_as_read = mark_as_read(email_adress, database)\n",
        "          with open(database, 'w') as file:\n",
        "            for mail in mail2mark_as_read:\n",
        "              for k, v in mail.items():\n",
        "                file.write(f'{k}: {v}\\n')\n",
        "              file.write('\\n')\n",
        "\n",
        "        # Responder un correo de la bandeja de entrada\n",
        "        elif menu_choice == 7:\n",
        "          print('\\nSi desea responder un correo de su bandeja de entrada por favor...\\n')\n",
        "          mail2reply = reply_mail(email_adress, database)\n",
        "          with open(database, 'a') as file:\n",
        "            for mail in mail2reply:\n",
        "              for k, v in mail.items():\n",
        "                file.write(f'{k}: {v}\\n')\n",
        "              file.write('\\n')\n",
        "\n",
        "        # Reenviar un correo de la bandeja de entrada\n",
        "        elif menu_choice == 8:\n",
        "          print('\\nSi desea reenviar un correo de su bandeja de entrada por favor...\\n')\n",
        "          mail2fwd = forward_mail(email_adress, database)\n",
        "          with open(database, 'a') as file:\n",
        "            for mail in mail2fwd:\n",
        "              for k, v in mail.items():\n",
        "                file.write(f'{k}: {v}\\n')\n",
        "              file.write('\\n')\n",
        "\n",
        "        # Visualizar la bandeja de salida\n",
        "        elif menu_choice == 9:\n",
        "          print('\\nHa escogido ver su bandeja de salida.\\n')\n",
        "          outbox_mails = outbox(email_adress, database)\n",
        "          for mail in outbox_mails:\n",
        "            for k, v in mail.items():\n",
        "              print(f'{k}: {v}')\n",
        "            print('\\n')\n",
        "\n",
        "        # Desconexión\n",
        "        elif menu_choice == 10:\n",
        "          print('¡Hasta pronto!')\n",
        "          break\n",
        "\n",
        "      except:\n",
        "        print('\\nPor favor ingrese un número comprendido entre 1 y 10.')\n"
      ]
    },
    {
      "cell_type": "markdown",
      "source": [
        "# **PLAY**\n",
        "Ejecuta la función main()"
      ],
      "metadata": {
        "id": "PTGEyBhVy99L"
      }
    },
    {
      "cell_type": "code",
      "source": [
        "main()"
      ],
      "metadata": {
        "id": "zbE5QUh8KRdV",
        "colab": {
          "base_uri": "https://localhost:8080/"
        },
        "outputId": "f7571049-93c2-41cf-9383-fe2b4990b319"
      },
      "execution_count": 20,
      "outputs": [
        {
          "output_type": "stream",
          "name": "stdout",
          "text": [
            "¡Bienvenido a Pymail! Para iniciar sesión por favor ingrese sus datos a continuación.\n",
            "Introduzca su dirección email: miguel.labrador@pymail.com\n",
            "Introduzca su contraseña: Miguel1!\n",
            "\n",
            "Iniciando sesión...\n",
            "\n",
            "== Menú de Correo Electrónico ==\n",
            "1. Enviar Correo\n",
            "2. Listar Bandeja de Entrada\n",
            "3. Eliminar Correo\n",
            "4. Leer Correo Electrónico\n",
            "5. Buscar Correos\n",
            "6. Marcar Correos como Leídos\n",
            "7. Responder a un Correo\n",
            "8. Reenviar Correo\n",
            "9. Listar Bandeja de Salida\n",
            "10. Salir\n",
            "\n",
            "Inserte el número de la acción que quiera realizar: 10\n",
            "¡Hasta pronto!\n"
          ]
        }
      ]
    }
  ],
  "metadata": {
    "colab": {
      "provenance": []
    },
    "kernelspec": {
      "display_name": "Python 3",
      "name": "python3"
    },
    "language_info": {
      "name": "python"
    }
  },
  "nbformat": 4,
  "nbformat_minor": 0
}